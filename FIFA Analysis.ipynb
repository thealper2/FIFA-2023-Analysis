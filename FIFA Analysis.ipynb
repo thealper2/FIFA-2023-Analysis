{
 "cells": [
  {
   "cell_type": "code",
   "execution_count": 1,
   "id": "bef272d0",
   "metadata": {},
   "outputs": [
    {
     "data": {
      "text/html": [
       "        <script type=\"text/javascript\">\n",
       "        window.PlotlyConfig = {MathJaxConfig: 'local'};\n",
       "        if (window.MathJax) {MathJax.Hub.Config({SVG: {font: \"STIX-Web\"}});}\n",
       "        if (typeof require !== 'undefined') {\n",
       "        require.undef(\"plotly\");\n",
       "        requirejs.config({\n",
       "            paths: {\n",
       "                'plotly': ['https://cdn.plot.ly/plotly-2.6.3.min']\n",
       "            }\n",
       "        });\n",
       "        require(['plotly'], function(Plotly) {\n",
       "            window._Plotly = Plotly;\n",
       "        });\n",
       "        }\n",
       "        </script>\n",
       "        "
      ]
     },
     "metadata": {},
     "output_type": "display_data"
    }
   ],
   "source": [
    "import numpy as np\n",
    "import pandas as pd\n",
    "import matplotlib.pyplot as plt\n",
    "import seaborn as sns\n",
    "import warnings\n",
    "import plotly.express as px\n",
    "from plotly.offline import init_notebook_mode\n",
    "warnings.filterwarnings('ignore')\n",
    "init_notebook_mode(connected=True)"
   ]
  },
  {
   "cell_type": "code",
   "execution_count": 2,
   "id": "4b3b8103",
   "metadata": {},
   "outputs": [],
   "source": [
    "df = pd.read_csv(\"Fifa 23 Players Data.csv\")"
   ]
  },
  {
   "cell_type": "code",
   "execution_count": 3,
   "id": "83273a83",
   "metadata": {},
   "outputs": [
    {
     "data": {
      "text/plain": [
       "(18539, 89)"
      ]
     },
     "execution_count": 3,
     "metadata": {},
     "output_type": "execute_result"
    }
   ],
   "source": [
    "df.shape"
   ]
  },
  {
   "cell_type": "code",
   "execution_count": 5,
   "id": "f31af417",
   "metadata": {},
   "outputs": [],
   "source": [
    "def from_country(country):\n",
    "    return df[df[\"Nationality\"] == country][[\"Full Name\", \"Club Jersey Number\", \"Club Name\", \"Age\", \"Best Position\", \"Overall\", \"Potential\"]]"
   ]
  },
  {
   "cell_type": "code",
   "execution_count": null,
   "id": "263fa35f",
   "metadata": {},
   "outputs": [],
   "source": [
    "from_country(\"Turkey\")"
   ]
  },
  {
   "cell_type": "code",
   "execution_count": 7,
   "id": "a87bad4a",
   "metadata": {},
   "outputs": [],
   "source": [
    "def from_club_name(club_name):\n",
    "    return df[df[\"Club Name\"] == club_name][[\"Full Name\", \"Club Jersey Number\", \"Age\", \"Best Position\", \"Overall\", \"Potential\"]]"
   ]
  },
  {
   "cell_type": "code",
   "execution_count": null,
   "id": "424890de",
   "metadata": {},
   "outputs": [],
   "source": [
    "from_club_name(\"Galatasaray SK\")"
   ]
  },
  {
   "cell_type": "code",
   "execution_count": null,
   "id": "1cef7708",
   "metadata": {},
   "outputs": [],
   "source": [
    "plt.figure(figsize=(16, 12))\n",
    "sns.countplot(x=df[\"Preferred Foot\"])\n",
    "plt.title(\"Sağ/Sol Ayak Oyuncu Oranı\", fontsize=20)\n",
    "plt.xlabel(\"Ayak\", fontsize=16)\n",
    "plt.ylabel(\"Oyuncu Sayısı\", fontsize=16)\n",
    "plt.show()"
   ]
  },
  {
   "cell_type": "code",
   "execution_count": 14,
   "id": "c0e6e2f8",
   "metadata": {},
   "outputs": [
    {
     "data": {
      "text/plain": [
       "(4494, 14045)"
      ]
     },
     "execution_count": 14,
     "metadata": {},
     "output_type": "execute_result"
    }
   ],
   "source": [
    "len(df[df[\"Preferred Foot\"] == \"Left\"]), len(df[df[\"Preferred Foot\"] == \"Right\"]) "
   ]
  },
  {
   "cell_type": "code",
   "execution_count": null,
   "id": "91673d0b",
   "metadata": {},
   "outputs": [],
   "source": [
    "reputations = df[\"International Reputation\"].value_counts()\n",
    "\n",
    "values = reputations.values\n",
    "names = reputations.index\n",
    "\n",
    "fig = px.pie(df, values=values, names=names, title=\"Internal Reputation\", hole=0.5)\n",
    "fig.show()"
   ]
  },
  {
   "cell_type": "code",
   "execution_count": null,
   "id": "fb663829",
   "metadata": {},
   "outputs": [],
   "source": [
    "plt.figure(figsize = (16, 12))\n",
    "plt.style.use('fivethirtyeight')\n",
    "sns.countplot(x=df['Best Position'], data=df, order=df[\"Best Position\"].value_counts().index)\n",
    "plt.xlabel(xlabel='Pozisyon', fontsize=16)\n",
    "plt.ylabel(ylabel='Oyuncu Sayısı', fontsize=16)\n",
    "plt.title(label='Pozisyonlara Göre Dağılım', fontsize=20)\n",
    "plt.show()"
   ]
  },
  {
   "cell_type": "code",
   "execution_count": null,
   "id": "8913dbae",
   "metadata": {},
   "outputs": [],
   "source": [
    "plt.figure(figsize=(15, 5))\n",
    "sns.distplot(x=df['Wage(in Euro)'])\n",
    "plt.xlabel('Maaş Aralığı', fontsize=16)\n",
    "plt.ylabel('Oyuncu Sayısı', fontsize=16)\n",
    "plt.title('Maaş Dağılımı', fontsize=20)\n",
    "plt.xticks(rotation=90)\n",
    "plt.show()"
   ]
  },
  {
   "cell_type": "code",
   "execution_count": null,
   "id": "5502816a",
   "metadata": {},
   "outputs": [],
   "source": [
    "plt.figure(figsize = (16, 12))\n",
    "sns.countplot(x=df['Skill Moves'], data=df)\n",
    "plt.title(label='Becerilere Göre Oyuncu Dağılımı', fontsize=20)\n",
    "plt.xlabel(xlabel='Beceri Sayısı', fontsize=16)\n",
    "plt.ylabel(ylabel='Oyuncu Sayısı', fontsize=16)\n",
    "plt.show()"
   ]
  },
  {
   "cell_type": "code",
   "execution_count": null,
   "id": "213b1dff",
   "metadata": {},
   "outputs": [],
   "source": [
    "plt.figure(figsize = (15, 5))\n",
    "sns.countplot(x=df['Height(in cm)'], data=df, order=df[\"Height(in cm)\"].value_counts().head(10).index)\n",
    "plt.title(label = 'Boylarına Göre Oyuncu Dağılımı', fontsize=20)\n",
    "plt.xlabel(xlabel = 'Boy', fontsize=16)\n",
    "plt.ylabel(ylabel = 'Oyuncu Sayısı', fontsize=16)\n",
    "plt.show()"
   ]
  },
  {
   "cell_type": "code",
   "execution_count": null,
   "id": "dfeec858",
   "metadata": {},
   "outputs": [],
   "source": [
    "plt.figure(figsize = (15, 5))\n",
    "sns.distplot(x=df['Weight(in kg)'])\n",
    "plt.title('Kilolarına Göre Oyuncu Dağılımı', fontsize=20)\n",
    "plt.xlabel('Kilo Aralığı', fontsize=16)\n",
    "plt.ylabel('Oyuncu Sayısı', fontsize=16)\n",
    "plt.show()"
   ]
  },
  {
   "cell_type": "code",
   "execution_count": null,
   "id": "1204df18",
   "metadata": {},
   "outputs": [],
   "source": [
    "plt.figure(figsize=(15, 5))\n",
    "plt.plot(df[\"Nationality\"].value_counts().head(10))\n",
    "plt.title('Ülkelere Göre Oyuncu Dağılımı', fontsize=20)\n",
    "plt.xlabel('Ülke', fontsize=16)\n",
    "plt.ylabel('Oyuncu Sayısı', fontsize=16)\n",
    "plt.show()"
   ]
  },
  {
   "cell_type": "code",
   "execution_count": null,
   "id": "a6d76f12",
   "metadata": {},
   "outputs": [],
   "source": [
    "data_club = df[df[\"Club Name\"] == \"Galatasaray SK\"][[\"Nationality\"]]\n",
    "\n",
    "plt.figure(figsize=(15, 5))\n",
    "plt.plot(data_club[\"Nationality\"].value_counts())\n",
    "plt.title('Galatasaray SK Takımının Ülke Dağılımı', fontsize=20)\n",
    "plt.xlabel('Ülke', fontsize=16)\n",
    "plt.ylabel('Oyuncu Sayısı', fontsize=16)\n",
    "plt.xticks(rotation=90)\n",
    "plt.show()"
   ]
  },
  {
   "cell_type": "code",
   "execution_count": null,
   "id": "053cd361",
   "metadata": {},
   "outputs": [],
   "source": [
    "data_club = df[df[\"Club Name\"] == \"Galatasaray SK\"][[\"Full Name\", \"Overall\"]]\n",
    "\n",
    "plt.figure(figsize=(15, 10))\n",
    "sns.barplot(x=data_club['Full Name'], y=data_club['Overall'])\n",
    "plt.title(label='Galatasaray SK Oyuncularının Puan Dağılımı', fontsize=20)\n",
    "plt.xlabel(xlabel='Oyuncu Adı', fontsize=16)\n",
    "plt.ylabel(ylabel='Puan', fontsize=16)\n",
    "plt.xticks(rotation=90)\n",
    "plt.show()"
   ]
  },
  {
   "cell_type": "code",
   "execution_count": null,
   "id": "270c4243",
   "metadata": {},
   "outputs": [],
   "source": [
    "data_club = df[df[\"Club Name\"] == \"Galatasaray SK\"][[\"BallControl\", \"Dribbling\", \"Preferred Foot\"]]\n",
    "\n",
    "sns.lmplot(x='BallControl', y='Dribbling', data=data_club, col='Preferred Foot')\n",
    "plt.show()"
   ]
  },
  {
   "cell_type": "code",
   "execution_count": null,
   "id": "1204abda",
   "metadata": {},
   "outputs": [],
   "source": []
  }
 ],
 "metadata": {
  "kernelspec": {
   "display_name": "Python 3 (ipykernel)",
   "language": "python",
   "name": "python3"
  },
  "language_info": {
   "codemirror_mode": {
    "name": "ipython",
    "version": 3
   },
   "file_extension": ".py",
   "mimetype": "text/x-python",
   "name": "python",
   "nbconvert_exporter": "python",
   "pygments_lexer": "ipython3",
   "version": "3.11.2"
  }
 },
 "nbformat": 4,
 "nbformat_minor": 5
}
